{
 "nbformat": 4,
 "nbformat_minor": 0,
 "metadata": {
  "colab": {
   "provenance": []
  },
  "kernelspec": {
   "name": "python3",
   "display_name": "Python 3"
  },
  "language_info": {
   "name": "python"
  }
 },
 "cells": [
  {
   "cell_type": "code",
   "source": [
    "!pip install PuLP"
   ],
   "metadata": {
    "colab": {
     "base_uri": "https://localhost:8080/"
    },
    "id": "ZsTAPlF7xTqd",
    "outputId": "719a7c9c-9f12-4631-cc9d-0a9cb1be7f86"
   },
   "execution_count": 1,
   "outputs": [
    {
     "name": "stdout",
     "output_type": "stream",
     "text": [
      "Collecting PuLP\r\n",
      "  Downloading PuLP-2.7.0-py3-none-any.whl (14.3 MB)\r\n",
      "\u001B[2K     \u001B[90m━━━━━━━━━━━━━━━━━━━━━━━━━━━━━━━━━━━━━━━━\u001B[0m \u001B[32m14.3/14.3 MB\u001B[0m \u001B[31m5.7 MB/s\u001B[0m eta \u001B[36m0:00:00\u001B[0m00:01\u001B[0m00:01\u001B[0m\r\n",
      "\u001B[?25hInstalling collected packages: PuLP\r\n",
      "Successfully installed PuLP-2.7.0\r\n",
      "\r\n",
      "\u001B[1m[\u001B[0m\u001B[34;49mnotice\u001B[0m\u001B[1;39;49m]\u001B[0m\u001B[39;49m A new release of pip available: \u001B[0m\u001B[31;49m22.3.1\u001B[0m\u001B[39;49m -> \u001B[0m\u001B[32;49m23.3.1\u001B[0m\r\n",
      "\u001B[1m[\u001B[0m\u001B[34;49mnotice\u001B[0m\u001B[1;39;49m]\u001B[0m\u001B[39;49m To update, run: \u001B[0m\u001B[32;49mpip install --upgrade pip\u001B[0m\r\n"
     ]
    }
   ]
  },
  {
   "cell_type": "code",
   "source": [
    "# New Sample Codes for the Optimization\n",
    "\n",
    "import pulp\n",
    "import random\n",
    "\n",
    "# Number of nodes and full set of station types\n",
    "num_nodes = 50\n",
    "station_types = ['eb', 'es', 'ec', 'walk']\n",
    "\n",
    "# Randomly assign station types to each node\n",
    "#node_stations = {i: random.sample(full_station_types, random.randint(1, len(full_station_types)))\n",
    "#                 for i in range(1, num_nodes + 1)}\n",
    "\n",
    "# Randomly assign station types to each node, ensuring 'walk' and start/end stations are included\n",
    "node_stations = {i: list(set(['walk'] + random.sample(station_types, random.randint(1, len(station_types) - 1))))\n",
    "                 for i in range(1, num_nodes + 1)}\n",
    "\n",
    "node_stations"
   ],
   "metadata": {
    "id": "w65kpZcV3qda"
   },
   "execution_count": 2,
   "outputs": [
    {
     "data": {
      "text/plain": "{1: ['es', 'walk'],\n 2: ['es', 'ec', 'walk'],\n 3: ['ec', 'walk'],\n 4: ['es', 'walk'],\n 5: ['es', 'eb', 'walk'],\n 6: ['es', 'walk'],\n 7: ['ec', 'walk'],\n 8: ['es', 'eb', 'walk'],\n 9: ['es', 'walk'],\n 10: ['es', 'eb', 'walk'],\n 11: ['es', 'walk'],\n 12: ['es', 'walk'],\n 13: ['es', 'eb', 'walk'],\n 14: ['ec', 'walk'],\n 15: ['es', 'walk'],\n 16: ['eb', 'walk'],\n 17: ['es', 'ec', 'eb', 'walk'],\n 18: ['ec', 'eb', 'walk'],\n 19: ['ec', 'walk'],\n 20: ['es', 'ec', 'walk'],\n 21: ['ec', 'walk'],\n 22: ['eb', 'walk'],\n 23: ['es', 'walk'],\n 24: ['es', 'eb', 'walk'],\n 25: ['es', 'walk'],\n 26: ['walk'],\n 27: ['eb', 'walk'],\n 28: ['es', 'ec', 'eb', 'walk'],\n 29: ['es', 'eb', 'walk'],\n 30: ['es', 'ec', 'walk'],\n 31: ['eb', 'walk'],\n 32: ['es', 'walk'],\n 33: ['es', 'walk'],\n 34: ['es', 'eb', 'walk'],\n 35: ['es', 'walk'],\n 36: ['es', 'ec', 'walk'],\n 37: ['walk'],\n 38: ['eb', 'walk'],\n 39: ['ec', 'eb', 'walk'],\n 40: ['es', 'eb', 'walk'],\n 41: ['walk'],\n 42: ['walk'],\n 43: ['es', 'eb', 'walk'],\n 44: ['ec', 'eb', 'walk'],\n 45: ['ec', 'walk'],\n 46: ['eb', 'walk'],\n 47: ['eb', 'walk'],\n 48: ['es', 'ec', 'eb', 'walk'],\n 49: ['es', 'eb', 'walk'],\n 50: ['es', 'ec', 'eb', 'walk']}"
     },
     "execution_count": 2,
     "metadata": {},
     "output_type": "execute_result"
    }
   ]
  },
  {
   "cell_type": "code",
   "source": [
    "# Specify start and end conditions\n",
    "start_node, start_station = 1, 'walk'  # Example: Starting from node 1 with station B\n",
    "end_node, end_station = 30, 'walk'      # Example: Ending at node 2 with station B\n",
    "\n",
    "# Create a MILP problem\n",
    "prob = pulp.LpProblem(\"Minimize_Traversal_Cost\", pulp.LpMinimize)\n",
    "\n",
    "# Decision variables for paths between different nodes and station changes\n",
    "paths = {(i, j, s): pulp.LpVariable(f\"path_{i}_{j}_{s}\", 0, 1, pulp.LpBinary)\n",
    "         for i in range(1, num_nodes + 1)\n",
    "         for j in range(1, num_nodes + 1)\n",
    "         for s in station_types if i != j}\n",
    "station_changes = {(i, s1, s2): pulp.LpVariable(f\"station_change_{i}_{s1}_{s2}\", 0, 1, pulp.LpBinary)\n",
    "                   for i in range(1, num_nodes + 1)\n",
    "                   for s1 in station_types\n",
    "                   for s2 in station_types if s1 != s2}\n",
    "\n",
    "# Random weights (costs) for each connection and station changes\n",
    "costs = {(i, j, s): random.randint(5, 20)\n",
    "         for i in range(1, num_nodes + 1)\n",
    "         for j in range(1, num_nodes + 1)\n",
    "         for s in station_types if i != j}\n",
    "\n",
    "station_change_costs = {(i, s1, s2): 0.1*random.randint(1, 5)\n",
    "                        for i in range(1, num_nodes + 1)\n",
    "                        for s1 in station_types\n",
    "                        for s2 in station_types if s1 != s2}\n",
    "\n",
    "# constant cost\n",
    "#station_change_costs = {(i, s1, s2): 0.1\n",
    "#                        for i in range(1, num_nodes + 1)\n",
    "#                        for s1 in station_types\n",
    "#                        for s2 in station_types if s1 != s2}"
   ],
   "metadata": {
    "id": "K9iso1hJ3-xh"
   },
   "execution_count": 3,
   "outputs": []
  },
  {
   "cell_type": "code",
   "source": [
    "#station_change_costs"
   ],
   "metadata": {
    "id": "TqlCcqlU_x0e"
   },
   "execution_count": 4,
   "outputs": []
  },
  {
   "cell_type": "code",
   "source": [
    "# Objective Function\n",
    "prob += pulp.lpSum([paths[i, j, s] * costs[i, j, s] for i, j, s in paths]) + \\\n",
    "        pulp.lpSum([station_changes[i, s1, s2] * station_change_costs[i, s1, s2] for i, s1, s2 in station_changes])\n",
    "\n",
    "# Constraints\n",
    "for i in range(1, num_nodes + 1):\n",
    "    for s in station_types:\n",
    "        # Flow balance for each node and station type\n",
    "        incoming_flow = pulp.lpSum([paths[j, i, s] for j in range(1, num_nodes + 1) if j != i])\n",
    "        outgoing_flow = pulp.lpSum([paths[i, j, s] for j in range(1, num_nodes + 1) if j != i])\n",
    "\n",
    "        # Allow station changes within the node\n",
    "        incoming_flow += pulp.lpSum([station_changes[i, s2, s] for s2 in station_types if s2 != s])\n",
    "        outgoing_flow += pulp.lpSum([station_changes[i, s, s2] for s2 in station_types if s2 != s])\n",
    "\n",
    "        # Start node should only have outgoing flow\n",
    "        if i == start_node and s == start_station:\n",
    "            prob += outgoing_flow == 1\n",
    "            prob += incoming_flow == 0\n",
    "        # End node should only have incoming flow\n",
    "        elif i == end_node and s == end_station:\n",
    "            prob += incoming_flow == 1\n",
    "            prob += outgoing_flow == 0\n",
    "        # Intermediate nodes should have equal incoming and outgoing flows\n",
    "        else:\n",
    "            prob += incoming_flow == outgoing_flow\n",
    "\n",
    "# Solve the problem\n",
    "prob.solve()\n",
    "\n",
    "# Output results\n",
    "if pulp.LpStatus[prob.status] == 'Optimal':\n",
    "    print(\"Total Cost: \", pulp.value(prob.objective))\n",
    "    for i, j, s in paths:\n",
    "        if pulp.value(paths[i, j, s]) == 1:\n",
    "            print(f\"Path from {i} to {j} with station {s} selected. Cost: {costs[i, j, s]}\")\n",
    "    for i, s1, s2 in station_changes:\n",
    "        if pulp.value(station_changes[i, s1, s2]) == 1:\n",
    "            print(f\"Station change at node {i} from {s1} to {s2}. Cost: {station_change_costs[i, s1, s2]}\")\n",
    "else:\n",
    "    print(\"No optimal solution found.\")"
   ],
   "metadata": {
    "colab": {
     "base_uri": "https://localhost:8080/"
    },
    "id": "9pppFtI3893x",
    "outputId": "4bc448ce-fe37-44d4-b653-1d86e7bcadd8"
   },
   "execution_count": 5,
   "outputs": [
    {
     "name": "stdout",
     "output_type": "stream",
     "text": [
      "Welcome to the CBC MILP Solver \n",
      "Version: 2.10.3 \n",
      "Build Date: Dec 15 2019 \n",
      "\n",
      "command line - /Users/dingyue/PycharmProjects/pythonProject/venv/lib/python3.10/site-packages/pulp/solverdir/cbc/osx/64/cbc /var/folders/f3/gd2h6jg568xdh7606tr291nm0000gn/T/1aba7d75cdc142de87ae90b19938e432-pulp.mps timeMode elapsed branch printingOptions all solution /var/folders/f3/gd2h6jg568xdh7606tr291nm0000gn/T/1aba7d75cdc142de87ae90b19938e432-pulp.sol (default strategy 1)\n",
      "At line 2 NAME          MODEL\n",
      "At line 3 ROWS\n",
      "At line 207 COLUMNS\n",
      "At line 52208 RHS\n",
      "At line 52411 BOUNDS\n",
      "At line 62812 ENDATA\n",
      "Problem MODEL has 202 rows, 10400 columns and 20800 elements\n",
      "Coin0008I MODEL read with 0 errors\n",
      "Option for timeMode changed from cpu to elapsed\n",
      "Continuous objective value is 5 - 0.01 seconds\n",
      "Cgl0002I 103 variables fixed\n",
      "Cgl0004I processed model has 200 rows, 10297 columns (10297 integer (10297 of which binary)) and 20594 elements\n",
      "Cutoff increment increased from 1e-05 to 0.0999\n",
      "Cbc0038I Initial state - 0 integers unsatisfied sum - 0\n",
      "Cbc0038I Solution found of 5\n",
      "Cbc0038I Before mini branch and bound, 10297 integers at bound fixed and 0 continuous\n",
      "Cbc0038I Mini branch and bound did not improve solution (0.08 seconds)\n",
      "Cbc0038I After 0.08 seconds - Feasibility pump exiting with objective of 5 - took 0.01 seconds\n",
      "Cbc0012I Integer solution of 5 found by feasibility pump after 0 iterations and 0 nodes (0.08 seconds)\n",
      "Cbc0001I Search completed - best objective 5, took 0 iterations and 0 nodes (0.08 seconds)\n",
      "Cbc0035I Maximum depth 0, 0 variables fixed on reduced cost\n",
      "Cuts at root node changed objective from 5 to 5\n",
      "Probing was tried 0 times and created 0 cuts of which 0 were active after adding rounds of cuts (0.000 seconds)\n",
      "Gomory was tried 0 times and created 0 cuts of which 0 were active after adding rounds of cuts (0.000 seconds)\n",
      "Knapsack was tried 0 times and created 0 cuts of which 0 were active after adding rounds of cuts (0.000 seconds)\n",
      "Clique was tried 0 times and created 0 cuts of which 0 were active after adding rounds of cuts (0.000 seconds)\n",
      "MixedIntegerRounding2 was tried 0 times and created 0 cuts of which 0 were active after adding rounds of cuts (0.000 seconds)\n",
      "FlowCover was tried 0 times and created 0 cuts of which 0 were active after adding rounds of cuts (0.000 seconds)\n",
      "TwoMirCuts was tried 0 times and created 0 cuts of which 0 were active after adding rounds of cuts (0.000 seconds)\n",
      "ZeroHalf was tried 0 times and created 0 cuts of which 0 were active after adding rounds of cuts (0.000 seconds)\n",
      "\n",
      "Result - Optimal solution found\n",
      "\n",
      "Objective value:                5.00000000\n",
      "Enumerated nodes:               0\n",
      "Total iterations:               0\n",
      "Time (CPU seconds):             0.08\n",
      "Time (Wallclock seconds):       0.09\n",
      "\n",
      "Option for printingOptions changed from normal to all\n",
      "Total time (CPU seconds):       0.10   (Wallclock seconds):       0.11\n",
      "\n",
      "Total Cost:  5.0\n",
      "Path from 1 to 30 with station walk selected. Cost: 5\n"
     ]
    }
   ]
  }
 ]
}
